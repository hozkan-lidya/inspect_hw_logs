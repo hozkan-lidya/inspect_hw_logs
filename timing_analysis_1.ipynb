{
 "cells": [
  {
   "cell_type": "markdown",
   "metadata": {},
   "source": [
    "# COMPARISON OF THE DELAYS BETWEEN MBO ENTRY POINT AND MBP ENTRY POINT FOR TWO ALTERNATIVE RTL DESIGNS\n",
    "## Description of the data and experiment\n",
    "Below we compare distribution of two delay series (`delay_1` and `delay_2`) conditional on order types (A' E' or D) and/or on being a TOB (Top-Of-the-Book) order:\n",
    "\n",
    "- `delay_1` data is obtained from the log files `bb_200914_0.log` and `mbpu_200914_0_Corrected.log`.\n",
    "\n",
    "- `delay_2` data is obtained from the log files `bb_200917_2.log` and `mbpu_200917_2.log`.\n",
    "\n",
    "For every MBO order, in addition to the `delay_i` scores, we have `order_id`, `type` and `is_tob` variables. \n",
    "\n",
    "## Results\n",
    "Below we compute the relevant statistics and display basic descriptive plots to compare `delay_1` to `delay_2` conditional on `type` and `is_tob` variables:"
   ]
  },
  {
   "cell_type": "code",
   "execution_count": 1,
   "metadata": {},
   "outputs": [
    {
     "name": "stdout",
     "output_type": "stream",
     "text": [
      "3.8.5 (default, Jul 20 2020, 19:48:14) \n",
      "[GCC 7.5.0]\n"
     ]
    }
   ],
   "source": [
    "import sys\n",
    "print(sys.version)"
   ]
  },
  {
   "cell_type": "code",
   "execution_count": 2,
   "metadata": {},
   "outputs": [],
   "source": [
    "import pandas as pd\n",
    "import matplotlib.pyplot as plt\n",
    "import seaborn as sns\n",
    "from tabulate import tabulate"
   ]
  },
  {
   "cell_type": "code",
   "execution_count": 3,
   "metadata": {
    "tags": []
   },
   "outputs": [
    {
     "name": "stdout",
     "output_type": "stream",
     "text": [
      "HEAD OF THE COMBINED CSV FILE:\n",
      "\n",
      "            id    type    is_tob    delay_1    delay_2\n",
      "--  ----------  ------  --------  ---------  ---------\n",
      " 0  7.1624e+18       0         1          2          2\n",
      " 1  7.1624e+18       0         0          2          2\n",
      " 2  7.1624e+18       0         0          2          2\n",
      " 3  7.1624e+18       0         0          2          2\n",
      " 4  7.1624e+18       0         0          2          2\n",
      " 5  7.1624e+18       0         0          2          2\n",
      " 6  7.1624e+18       0         0          2          2\n",
      " 7  7.1624e+18       0         0          2          2\n",
      " 8  7.1624e+18       0         0          2          2\n",
      " 9  7.1624e+18       0         0          2          2\n"
     ]
    }
   ],
   "source": [
    "alt_1 = pd.read_csv(\"./out/alt_1.csv\",names=['id', 'type','is_tob','delay_1'])\n",
    "alt_2 = pd.read_csv(\"./out/alt_2.csv\",names=['id2', 'type2','is_tob2','delay_2'])\n",
    "all = pd.concat([alt_1, alt_2[['delay_2']]],ignore_index=True, axis = 1)\n",
    "all.columns = alt_1.columns.to_list()   + alt_2.columns.to_list()[-1:] \n",
    "print(\"HEAD OF THE COMBINED CSV FILE:\\n\")\n",
    "print(tabulate(all.head(10), headers=all.columns))"
   ]
  },
  {
   "cell_type": "code",
   "execution_count": 4,
   "metadata": {
    "tags": []
   },
   "outputs": [
    {
     "name": "stdout",
     "output_type": "stream",
     "text": [
      "GENERAL DESCRIPTION OF DATA:\n",
      "\n",
      "                     id          type         is_tob       delay_1       delay_2\n",
      "-----  ----------------  ------------  -------------  ------------  ------------\n",
      "count  242977            242977        242977         242977        242977\n",
      "mean        7.16278e+18       1.22324       0.322002       7.78797      12.2614\n",
      "std         4.91715e+14       1.3508        0.467245       5.57411       5.97261\n",
      "min         7.11491e+18       0             0              2             2\n",
      "25%         7.16279e+18       0             0              2            13\n",
      "50%         7.16279e+18       1             0             13            15\n",
      "75%         7.16279e+18       3             1             13            15\n",
      "max         7.16279e+18       3             1            162            86\n"
     ]
    }
   ],
   "source": [
    "all = pd.concat([alt_1, alt_2[['delay_2']]],ignore_index=True, axis = 1)\n",
    "all.columns = alt_1.columns.to_list()   + alt_2.columns.to_list()[-1:] \n",
    "desc_all = all.describe()\n",
    "print(\"GENERAL DESCRIPTION OF DATA:\\n\")\n",
    "print(tabulate(desc_all, headers = desc_all.columns ))"
   ]
  },
  {
   "cell_type": "code",
   "execution_count": 5,
   "metadata": {},
   "outputs": [],
   "source": [
    "def plot_box(df):\n",
    "    desc = df.describe()\n",
    "    print(tabulate(desc, headers = desc.columns))\n",
    "    sns.boxplot( data=df[[\"delay_1\", \"delay_2\"]])\n",
    "    return plt\n",
    "a4_dims = (8, 6)"
   ]
  },
  {
   "cell_type": "code",
   "execution_count": 6,
   "metadata": {
    "tags": []
   },
   "outputs": [
    {
     "name": "stdout",
     "output_type": "stream",
     "text": [
      "GENERAL DESCRIPTION OF ADD ORDER CASES:\n",
      "\n",
      "                     id    type         is_tob    delay_1       delay_2\n",
      "-----  ----------------  ------  -------------  ---------  ------------\n",
      "count  115657            115657  115657            115657  115657\n",
      "mean        7.16277e+18       0       0.25311           2       9.49459\n",
      "std         6.97741e+14       0       0.434796          0       6.985\n",
      "min         7.11491e+18       0       0                 2       2\n",
      "25%         7.16279e+18       0       0                 2       2\n",
      "50%         7.16279e+18       0       0                 2      14\n",
      "75%         7.16279e+18       0       1                 2      15\n",
      "max         7.16279e+18       0       1                 2      30\n"
     ]
    },
    {
     "data": {
      "image/png": "[encoded data removed]",
      "text/plain": [
       "<Figure size 576x432 with 1 Axes>"
      ]
     },
     "metadata": {
      "needs_background": "light"
     },
     "output_type": "display_data"
    }
   ],
   "source": [
    "fig, ax = plt.subplots(figsize=a4_dims)\n",
    "plt.title('Add orders')\n",
    "plt.ylabel('cycles')\n",
    "print(\"GENERAL DESCRIPTION OF ADD ORDER CASES:\\n\")\n",
    "plot_box(all.query('type==0')).show()"
   ]
  },
  {
   "cell_type": "code",
   "execution_count": 7,
   "metadata": {
    "tags": []
   },
   "outputs": [
    {
     "name": "stdout",
     "output_type": "stream",
     "text": [
      "GENERAL DESCRIPTION OF EXECUTE ORDER CASES:\n",
      "\n",
      "                    id    type    is_tob      delay_1      delay_2\n",
      "-----  ---------------  ------  --------  -----------  -----------\n",
      "count  42370             42370     42370  42370        42370\n",
      "mean       7.16279e+18       1         1     13.1283      13.1276\n",
      "std        1.98364e+14       0         0      1.60052      1.58575\n",
      "min        7.12598e+18       1         1     13           13\n",
      "25%        7.16279e+18       1         1     13           13\n",
      "50%        7.16279e+18       1         1     13           13\n",
      "75%        7.16279e+18       1         1     13           13\n",
      "max        7.16279e+18       1         1     86           86\n"
     ]
    },
    {
     "data": {
      "image/png": "[encoded data removed]",
      "text/plain": [
       "<Figure size 576x432 with 1 Axes>"
      ]
     },
     "metadata": {
      "needs_background": "light"
     },
     "output_type": "display_data"
    }
   ],
   "source": [
    "fig, ax = plt.subplots(figsize=a4_dims)\n",
    "plt.title('Execute orders')\n",
    "plt.ylabel('cycles')\n",
    "print(\"GENERAL DESCRIPTION OF EXECUTE ORDER CASES:\\n\")\n",
    "plot_box(all.query('type==1')).show()"
   ]
  },
  {
   "cell_type": "code",
   "execution_count": 8,
   "metadata": {
    "tags": []
   },
   "outputs": [
    {
     "name": "stdout",
     "output_type": "stream",
     "text": [
      "GENERAL DESCRIPTION OF DELETE ORDER CASES:\n",
      "\n",
      "                    id    type         is_tob       delay_1     delay_2\n",
      "-----  ---------------  ------  -------------  ------------  ----------\n",
      "count  84950             84950  84950          84950         84950\n",
      "mean       7.16279e+18       3      0.0776339     13.0046       15.5963\n",
      "std        9.40531e+13       0      0.267596       0.737906      3.5259\n",
      "min        7.15331e+18       3      0             13            14\n",
      "25%        7.16279e+18       3      0             13            15\n",
      "50%        7.16279e+18       3      0             13            15\n",
      "75%        7.16279e+18       3      0             13            15\n",
      "max        7.16279e+18       3      1            162            44\n"
     ]
    },
    {
     "data": {
      "image/png": "[encoded data removed]",
      "text/plain": [
       "<Figure size 576x432 with 1 Axes>"
      ]
     },
     "metadata": {
      "needs_background": "light"
     },
     "output_type": "display_data"
    }
   ],
   "source": [
    "fig, ax = plt.subplots(figsize=a4_dims)\n",
    "plt.title('Delete orders')\n",
    "plt.ylabel('cycles')\n",
    "print(\"GENERAL DESCRIPTION OF DELETE ORDER CASES:\\n\")\n",
    "plot_box(all.query('type==3')).show()"
   ]
  },
  {
   "cell_type": "code",
   "execution_count": 9,
   "metadata": {
    "tags": []
   },
   "outputs": [
    {
     "name": "stdout",
     "output_type": "stream",
     "text": [
      "GENERAL DESCRIPTION OF ORDERS THAT HIT AT TOB:\n",
      "\n",
      "                    id          type    is_tob      delay_1      delay_2\n",
      "-----  ---------------  ------------  --------  -----------  -----------\n",
      "count  78239            78239            78239  78239        78239\n",
      "mean       7.16279e+18      0.794425         1      8.95373      9.5883\n",
      "std        1.46132e+14      0.817973         0      5.50434      5.58574\n",
      "min        7.12598e+18      0                1      2            2\n",
      "25%        7.16279e+18      0                1      2            2\n",
      "50%        7.16279e+18      1                1     13           13\n",
      "75%        7.16279e+18      1                1     13           13\n",
      "max        7.16279e+18      3                1     86           86\n"
     ]
    },
    {
     "data": {
      "image/png": "[encoded data removed]",
      "text/plain": [
       "<Figure size 576x432 with 1 Axes>"
      ]
     },
     "metadata": {
      "needs_background": "light"
     },
     "output_type": "display_data"
    }
   ],
   "source": [
    "fig, ax = plt.subplots(figsize=a4_dims)\n",
    "plt.title('Only TOB orders')\n",
    "plt.ylabel('cycles')\n",
    "print(\"GENERAL DESCRIPTION OF ORDERS THAT HIT AT TOB:\\n\")\n",
    "plot_box(all.query('is_tob==1')).show()"
   ]
  },
  {
   "cell_type": "code",
   "execution_count": 10,
   "metadata": {
    "tags": []
   },
   "outputs": [
    {
     "name": "stdout",
     "output_type": "stream",
     "text": [
      "GENERAL DESCRIPTION OF ADD ORDERS THAT HIT AT TOB:\n",
      "\n",
      "                    id    type    is_tob    delay_1      delay_2\n",
      "-----  ---------------  ------  --------  ---------  -----------\n",
      "count  29274             29274     29274      29274  29274\n",
      "mean       7.16279e+18       0         1          2      3.25391\n",
      "std        7.67156e+12       0         0          0      3.79527\n",
      "min        7.1624e+18        0         1          2      2\n",
      "25%        7.16279e+18       0         1          2      2\n",
      "50%        7.16279e+18       0         1          2      2\n",
      "75%        7.16279e+18       0         1          2      2\n",
      "max        7.16279e+18       0         1          2     28\n"
     ]
    },
    {
     "data": {
      "image/png": "[encoded data removed]",
      "text/plain": [
       "<Figure size 576x432 with 1 Axes>"
      ]
     },
     "metadata": {
      "needs_background": "light"
     },
     "output_type": "display_data"
    }
   ],
   "source": [
    "fig, ax = plt.subplots(figsize=a4_dims)\n",
    "plt.title('TOB and Add orders')\n",
    "plt.ylabel('cycles')\n",
    "print(\"GENERAL DESCRIPTION OF ADD ORDERS THAT HIT AT TOB:\\n\")\n",
    "plot_box(all.query('type==0 and is_tob==1')).show()"
   ]
  },
  {
   "cell_type": "code",
   "execution_count": 11,
   "metadata": {
    "tags": []
   },
   "outputs": [
    {
     "name": "stdout",
     "output_type": "stream",
     "text": [
      "GENERAL DESCRIPTION OF EXECUTE ORDERS THAT HIT AT TOB:\n",
      "\n",
      "                    id    type    is_tob      delay_1      delay_2\n",
      "-----  ---------------  ------  --------  -----------  -----------\n",
      "count  42370             42370     42370  42370        42370\n",
      "mean       7.16279e+18       1         1     13.1283      13.1276\n",
      "std        1.98364e+14       0         0      1.60052      1.58575\n",
      "min        7.12598e+18       1         1     13           13\n",
      "25%        7.16279e+18       1         1     13           13\n",
      "50%        7.16279e+18       1         1     13           13\n",
      "75%        7.16279e+18       1         1     13           13\n",
      "max        7.16279e+18       1         1     86           86\n"
     ]
    },
    {
     "data": {
      "image/png": "[encoded data removed]",
      "text/plain": [
       "<Figure size 576x432 with 1 Axes>"
      ]
     },
     "metadata": {
      "needs_background": "light"
     },
     "output_type": "display_data"
    }
   ],
   "source": [
    "fig, ax = plt.subplots(figsize=a4_dims)\n",
    "plt.title('TOB and Execute orders')\n",
    "plt.ylabel('cycles')\n",
    "print(\"GENERAL DESCRIPTION OF EXECUTE ORDERS THAT HIT AT TOB:\\n\")\n",
    "plot_box(all.query('type==1 and is_tob==1')).show()"
   ]
  },
  {
   "cell_type": "code",
   "execution_count": 12,
   "metadata": {
    "tags": []
   },
   "outputs": [
    {
     "name": "stdout",
     "output_type": "stream",
     "text": [
      "GENERAL DESCRIPTION OF DELETE ORDERS THAT HIT AT TOB:\n",
      "\n",
      "                   id    type    is_tob      delay_1     delay_2\n",
      "-----  --------------  ------  --------  -----------  ----------\n",
      "count  6595              6595      6595  6595         6595\n",
      "mean      7.16279e+18       3         1    13.0003      14.9668\n",
      "std       1.61533e+13       0         0     0.017413     1.59255\n",
      "min       7.1624e+18        3         1    13           14\n",
      "25%       7.16279e+18       3         1    13           15\n",
      "50%       7.16279e+18       3         1    13           15\n",
      "75%       7.16279e+18       3         1    13           15\n",
      "max       7.16279e+18       3         1    14           44\n"
     ]
    },
    {
     "data": {
      "image/png": "[encoded data removed]",
      "text/plain": [
       "<Figure size 576x432 with 1 Axes>"
      ]
     },
     "metadata": {
      "needs_background": "light"
     },
     "output_type": "display_data"
    }
   ],
   "source": [
    "fig, ax = plt.subplots(figsize=a4_dims)\n",
    "plt.title('TOB and Delete orders')\n",
    "plt.ylabel('cycles')\n",
    "print(\"GENERAL DESCRIPTION OF DELETE ORDERS THAT HIT AT TOB:\\n\")\n",
    "plot_box(all.query('type==3 and is_tob==1')).show()"
   ]
  }
 ],
 "metadata": {
  "kernelspec": {
   "display_name": "Python 3",
   "language": "python",
   "name": "python3"
  },
  "language_info": {
   "codemirror_mode": {
    "name": "ipython",
    "version": 3
   },
   "file_extension": ".py",
   "mimetype": "text/x-python",
   "name": "python",
   "nbconvert_exporter": "python",
   "pygments_lexer": "ipython3",
   "version": "3.8.5"
  }
 },
 "nbformat": 4,
 "nbformat_minor": 4
}
